{
 "cells": [
  {
   "cell_type": "code",
   "execution_count": 27,
   "metadata": {},
   "outputs": [],
   "source": [
    "import scipy as sp\n",
    "import matplotlib.pyplot as plt\n",
    "import seaborn as sns\n",
    "%matplotlib inline"
   ]
  },
  {
   "cell_type": "markdown",
   "metadata": {},
   "source": [
    "# Dati\n",
    "\n",
    "C'è una comunità di 80 orsetti nella foresta. Gli orsetti anziani sono 16, e il loro numero è fisso. Le orsette sono sempre il 25% degli orsetti totali.\n",
    "I rimanenti orsetti si dividono in 11 sottospecie diverse (per colore). ciascuna sottospecie rappresenta sempre una % fissa rispetto al numero totale di orsetti della comunità. "
   ]
  },
  {
   "cell_type": "code",
   "execution_count": 22,
   "metadata": {},
   "outputs": [],
   "source": [
    "# popolazione iniziale\n",
    "p0 = 80 \n",
    "\n",
    "# numero di vecchi\n",
    "v = 16 \n",
    "\n",
    "# numero di femmine\n",
    "def femmine(popolazione):\n",
    "    return popolazione*0.25\n",
    "\n",
    "# composizione iniziale come funzione della popolazione\n",
    "def composizione(p=p0):\n",
    "    composizione = {\n",
    "        'bruni'       : 0.2363*p,\n",
    "        'gialli'      : 0.1894*p,\n",
    "        'beige'       : 0.1486*p,\n",
    "        'grigi'       : 0.0653*p,\n",
    "        'neri'        : 0.0651*p,\n",
    "        'verdi'       : 0.0634*p,\n",
    "        'rossi'       : 0.0577*p,\n",
    "        'bianchi'     : 0.0576*p,\n",
    "        'blu'         : 0.0417*p,\n",
    "        'arancioni'   : 0.0401*p,\n",
    "        'trasparenti' : 0.0347*p\n",
    "    }\n",
    "    return composizione\n"
   ]
  },
  {
   "cell_type": "markdown",
   "metadata": {},
   "source": [
    "## Domanda n.1\n",
    "Siccome non è carino amputare gli orsetti, si procede a degli arrotondamenti (per effetto o per eccesso prendendo lo 0,5 come linea), ma poi il totale non torna. Come si fa a farlo tornare? "
   ]
  },
  {
   "cell_type": "markdown",
   "metadata": {},
   "source": [
    "### Osservazioni\n",
    "\n",
    "* Prima di porcedere osservo che l'età e il genere non sono importanti per rispondere alla domanda, perchè l'attributo che interessa è il colore\n",
    "* il fatto che gli anziani siano in numero costante rispetto al totale permetterà di calcolare il tasso di mortalità in fuzione della crescita della popolazione\n",
    "* come sopra, il fatto che le femmine siano in percentuale costante rispetto al totale permette uno studio sulla distribuizione di genere nella popolazione ma non dice nulla sul colore"
   ]
  },
  {
   "cell_type": "code",
   "execution_count": 23,
   "metadata": {},
   "outputs": [
    {
     "name": "stdout",
     "output_type": "stream",
     "text": [
      "79.992\n"
     ]
    }
   ],
   "source": [
    "# controllo che la somma delle percentuali dia come risultato 100, o in maniera equivalente, che la somma\n",
    "# della composizione mi dia il numero totale della popolazione iniziale\n",
    "s=0\n",
    "for i in composizione(p0).values():\n",
    "    s+=i\n",
    "print(s)"
   ]
  },
  {
   "cell_type": "markdown",
   "metadata": {},
   "source": [
    "Parte male visto che neanche sommando la composizione iniziale arriva a cifra tonda.\n",
    "\n",
    "A sto punto faccio il grafico della distanza fra la popolazione totale e la somma della composizione dove ogni colore è stato arrotondato:"
   ]
  },
  {
   "cell_type": "code",
   "execution_count": 77,
   "metadata": {},
   "outputs": [
    {
     "data": {
      "image/png": "[encoded data removed]",
      "text/plain": [
       "<Figure size 1152x864 with 1 Axes>"
      ]
     },
     "metadata": {},
     "output_type": "display_data"
    }
   ],
   "source": [
    "x=sp.linspace(80,160, num = 81) # 80 punti equispaziati\n",
    "y=[] # questo servirà a collezionare i risultati\n",
    "\n",
    "for p in x: # p è un valore intero fra 80 e 160\n",
    "    \n",
    "    # per un certo valore della popolazione totale sommo tutti i componenti\n",
    "    somma = sp.sum([round(i) for i in composizione(p).values()])\n",
    "    # funzione errore, ossia se p=somma allora err=0, altrimenti rimane un residuo che viene assegnato ad err\n",
    "    err = p-somma\n",
    "    # colleziono il risultato per questo valore di popolazione totale p\n",
    "    y.append(err)\n",
    "\n",
    "# faccio il grafico dei residui\n",
    "fig, ax = plt.subplots(figsize=(16,12))\n",
    "sns.set(style=\"whitegrid\")\n",
    "ax=sns.barplot(x, y)"
   ]
  },
  {
   "cell_type": "markdown",
   "metadata": {},
   "source": [
    "Come si vede la fuzione errore va a zero ogni tanto ma non è detto che avendo arrotondato la percentuale risultatnte di ogni colore sia azzeccata.\n",
    "Per vedere se succede gli dico di stampare solo il caso in cui la composizione sia esattamente quella desiderata."
   ]
  },
  {
   "cell_type": "code",
   "execution_count": 81,
   "metadata": {},
   "outputs": [
    {
     "name": "stdout",
     "output_type": "stream",
     "text": [
      "Trovata composizione esatta per una popolazione di 10000 abitanti!\n",
      "bruni          : 2363\n",
      "gialli         : 1894\n",
      "beige          : 1486\n",
      "grigi          :  653\n",
      "neri           :  651\n",
      "verdi          :  634\n",
      "rossi          :  577\n",
      "bianchi        :  576\n",
      "blu            :  417\n",
      "arancioni      :  401\n",
      "trasparenti    :  347\n",
      "Trovata composizione esatta per una popolazione di 20000 abitanti!\n",
      "bruni          : 4726\n",
      "gialli         : 3788\n",
      "beige          : 2972\n",
      "grigi          : 1306\n",
      "neri           : 1302\n",
      "verdi          : 1268\n",
      "rossi          : 1154\n",
      "bianchi        : 1152\n",
      "blu            :  834\n",
      "arancioni      :  802\n",
      "trasparenti    :  694\n",
      "Trovata composizione esatta per una popolazione di 30000 abitanti!\n",
      "bruni          : 7089\n",
      "gialli         : 5682\n",
      "beige          : 4458\n",
      "grigi          : 1959\n",
      "neri           : 1953\n",
      "verdi          : 1902\n",
      "rossi          : 1731\n",
      "bianchi        : 1728\n",
      "blu            : 1251\n",
      "arancioni      : 1203\n",
      "trasparenti    : 1041\n",
      "Trovata composizione esatta per una popolazione di 40000 abitanti!\n",
      "bruni          : 9452\n",
      "gialli         : 7576\n",
      "beige          : 5944\n",
      "grigi          : 2612\n",
      "neri           : 2604\n",
      "verdi          : 2536\n",
      "rossi          : 2308\n",
      "bianchi        : 2304\n",
      "blu            : 1668\n",
      "arancioni      : 1604\n",
      "trasparenti    : 1388\n",
      "Trovata composizione esatta per una popolazione di 50000 abitanti!\n",
      "bruni          :11815\n",
      "gialli         : 9470\n",
      "beige          : 7430\n",
      "grigi          : 3265\n",
      "neri           : 3255\n",
      "verdi          : 3170\n",
      "rossi          : 2885\n",
      "bianchi        : 2880\n",
      "blu            : 2085\n",
      "arancioni      : 2005\n",
      "trasparenti    : 1735\n"
     ]
    }
   ],
   "source": [
    "x=80\n",
    "nsol=5\n",
    "sol=0\n",
    "while True:\n",
    "    colori = composizione(x).values()\n",
    "    # per un certo valore della popolazione totale sommo tutti i componenti\n",
    "    somma = sp.sum([i for i in colori])\n",
    "    # per lo stesso valore di popolazione sommo tutti i componenti arrotondando ogni colore\n",
    "    somma_arrotondata = sp.sum([round(i) for i in colori])\n",
    "    # funzione errore, qui controllo che la somma dei valori esatti e di quelli arrotondati coincidano\n",
    "    err = somma-somma_arrotondata\n",
    "    if err==0.0:\n",
    "        print('Trovata composizione esatta per una popolazione di {:3.0f} abitanti!'.format(x))\n",
    "        for key, val in composizione(x).items():\n",
    "            print('{:15s}:{:5.0f}'.format(key, val))\n",
    "        sol+=1\n",
    "        if sol>=nsol:\n",
    "            break\n",
    "    x+=1 #incremento la popolazione di uno se il check qui sopra non è andato bene"
   ]
  },
  {
   "cell_type": "markdown",
   "metadata": {},
   "source": [
    "## Domanda n.2\n",
    "La comunità di orsetti cresce. Quali dimensioni deve raggiungere la comunità di orsetti perchè gli orsetti grigi, rossi e arancioni ottengano un accrescimento del loro numero in maniera comparativamente \"più vantaggiosa\" rispetto all'accrescimento degli orsetti bruni e gialli ?\n",
    "\n",
    "Se la risposta rende possibili più dimensioni totali della comunità di orsetti, tieni presente che essa non può mai superare le 160 unità."
   ]
  },
  {
   "cell_type": "markdown",
   "metadata": {},
   "source": [
    "#### Risposta\n",
    "Questa domanda non ha significato: se la composizione percentuale rimane quella, non ci sarà mai nessun sorpasso di una parte della popolazione sull'altra "
   ]
  },
  {
   "cell_type": "code",
   "execution_count": null,
   "metadata": {},
   "outputs": [],
   "source": []
  }
 ],
 "metadata": {
  "kernelspec": {
   "display_name": "Python 3",
   "language": "python",
   "name": "python3"
  },
  "language_info": {
   "codemirror_mode": {
    "name": "ipython",
    "version": 3
   },
   "file_extension": ".py",
   "mimetype": "text/x-python",
   "name": "python",
   "nbconvert_exporter": "python",
   "pygments_lexer": "ipython3",
   "version": "3.6.5"
  }
 },
 "nbformat": 4,
 "nbformat_minor": 2
}
